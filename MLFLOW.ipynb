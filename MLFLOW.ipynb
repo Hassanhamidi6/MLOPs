{
 "cells": [
  {
   "cell_type": "code",
   "execution_count": 19,
   "id": "b101aac9-f49c-4548-8f98-d6ef558a32f6",
   "metadata": {},
   "outputs": [],
   "source": [
    "import mlflow "
   ]
  },
  {
   "cell_type": "code",
   "execution_count": 20,
   "id": "42da134c-cdff-438f-8d0c-fa6879820c95",
   "metadata": {},
   "outputs": [],
   "source": [
    "mlflow.set_tracking_uri(\"http://localhost:5000\")"
   ]
  },
  {
   "cell_type": "code",
   "execution_count": 21,
   "id": "989a2748-14c2-439a-9e31-7c883eb3fa0c",
   "metadata": {},
   "outputs": [
    {
     "name": "stdout",
     "output_type": "stream",
     "text": [
      "🏃 View run serious-hen-788 at: http://localhost:5000/#/experiments/945287699565373679/runs/90f874e84e454a6fa007a9d72c0c9a17\n",
      "🧪 View experiment at: http://localhost:5000/#/experiments/945287699565373679\n"
     ]
    }
   ],
   "source": [
    "experiment= mlflow.get_experiment_by_name(\"Check localhost connection\")\n",
    "\n",
    "with mlflow.start_run():\n",
    "    mlflow.log_metric(\"test\", 1)\n",
    "    mlflow.log_metric(\"laptop\", 2)"
   ]
  },
  {
   "cell_type": "code",
   "execution_count": 22,
   "id": "dff217d6-7d5e-4a81-b769-134530144d1a",
   "metadata": {},
   "outputs": [
    {
     "name": "stdout",
     "output_type": "stream",
     "text": [
      "🏃 View run incongruous-cod-280 at: http://localhost:5000/#/experiments/945287699565373679/runs/595dc301db68473ca7ee1907f0832e58\n",
      "🧪 View experiment at: http://localhost:5000/#/experiments/945287699565373679\n"
     ]
    }
   ],
   "source": [
    "with mlflow.start_run():\n",
    "    mlflow.log_metric(\"test1\", 1)\n",
    "    mlflow.log_metric(\"laptop1\", 2)"
   ]
  },
  {
   "cell_type": "code",
   "execution_count": 24,
   "id": "2736f181-0689-4288-ba47-945ca1f15aae",
   "metadata": {},
   "outputs": [
    {
     "name": "stdout",
     "output_type": "stream",
     "text": [
      "🏃 View run rebellious-deer-917 at: http://localhost:5000/#/experiments/945287699565373679/runs/5cab190f20024ff29cef441ac3360f74\n",
      "🧪 View experiment at: http://localhost:5000/#/experiments/945287699565373679\n"
     ]
    }
   ],
   "source": [
    "with mlflow.start_run():\n",
    "    mlflow.log_metric(\"test2\", 1)\n",
    "    mlflow.log_metric(\"laptop2\", 2) "
   ]
  },
  {
   "cell_type": "code",
   "execution_count": null,
   "id": "53a9a2a4-663e-4021-a279-5b2d9725862e",
   "metadata": {},
   "outputs": [],
   "source": []
  },
  {
   "cell_type": "code",
   "execution_count": null,
   "id": "b7a8f8e9-00e0-42c4-8a32-9003cb969d41",
   "metadata": {},
   "outputs": [],
   "source": []
  }
 ],
 "metadata": {
  "kernelspec": {
   "display_name": "Python 3 (ipykernel)",
   "language": "python",
   "name": "python3"
  },
  "language_info": {
   "codemirror_mode": {
    "name": "ipython",
    "version": 3
   },
   "file_extension": ".py",
   "mimetype": "text/x-python",
   "name": "python",
   "nbconvert_exporter": "python",
   "pygments_lexer": "ipython3",
   "version": "3.10.11"
  }
 },
 "nbformat": 4,
 "nbformat_minor": 5
}
